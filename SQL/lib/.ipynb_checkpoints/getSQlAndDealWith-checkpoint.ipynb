{
 "cells": [
  {
   "cell_type": "code",
   "execution_count": 1,
   "metadata": {},
   "outputs": [],
   "source": [
    "from DoctorDay import *"
   ]
  },
  {
   "cell_type": "code",
   "execution_count": 2,
   "metadata": {},
   "outputs": [
    {
     "name": "stdout",
     "output_type": "stream",
     "text": [
      "420\n",
      ":id\n",
      ":index\n",
      ":data\n",
      ":DoctorList\n",
      ":npyData\n",
      ":dayTimeListOfDoc\n",
      ":dayTimeOfDoc\n",
      ":workDaysNum\n",
      ":caseNum\n",
      ":listTask\n",
      ":TaskNum\n",
      ":listCaseTime\n",
      ":timeAll\n",
      ":taskInfo\n",
      ":caseTime\n",
      "\n"
     ]
    }
   ],
   "source": [
    "Docobj= DocotorDay(10)\n",
    "\n",
    "print(Docobj)\n",
    "Docobj.dayMesage()"
   ]
  },
  {
   "cell_type": "code",
   "execution_count": null,
   "metadata": {},
   "outputs": [],
   "source": []
  }
 ],
 "metadata": {
  "kernelspec": {
   "display_name": "Python 3",
   "language": "python",
   "name": "python3"
  },
  "language_info": {
   "codemirror_mode": {
    "name": "ipython",
    "version": 3
   },
   "file_extension": ".py",
   "mimetype": "text/x-python",
   "name": "python",
   "nbconvert_exporter": "python",
   "pygments_lexer": "ipython3",
   "version": "3.6.9"
  }
 },
 "nbformat": 4,
 "nbformat_minor": 2
}
